{
 "cells": [
  {
   "cell_type": "code",
   "execution_count": 64,
   "metadata": {},
   "outputs": [
    {
     "name": "stdout",
     "output_type": "stream",
     "text": [
      "Ax=b\n",
      "行列\n",
      "[[1.  2.  0.  0.  0.  0.  0.  0.  0.  0. ]\n",
      " [0.9 1.  2.  0.  0.  0.  0.  0.  0.  0. ]\n",
      " [0.  0.9 1.  2.  0.  0.  0.  0.  0.  0. ]\n",
      " [0.  0.  0.9 1.  2.  0.  0.  0.  0.  0. ]\n",
      " [0.  0.  0.  0.9 1.  2.  0.  0.  0.  0. ]\n",
      " [0.  0.  0.  0.  0.9 1.  2.  0.  0.  0. ]\n",
      " [0.  0.  0.  0.  0.  0.9 1.  2.  0.  0. ]\n",
      " [0.  0.  0.  0.  0.  0.  0.9 1.  2.  0. ]\n",
      " [0.  0.  0.  0.  0.  0.  0.  0.9 1.  2. ]\n",
      " [0.  0.  0.  0.  0.  0.  0.  0.  0.9 1. ]]\n",
      "右辺\n",
      "[1. 1. 1. 1. 1. 1. 1. 1. 1. 1.]\n",
      "解\n",
      "[-26.30364996  13.65182498   5.51072999  -8.39868624   2.21951462\n",
      "   3.1696515   -2.08360733   0.11546049   1.37989305  -0.24190375]\n"
     ]
    }
   ],
   "source": [
    "import numpy as np\n",
    "A = np.eye(10) + np.eye(10, k=1)*2 + np.eye(10, k=-1)*0.5\n",
    "b = np.ones(10)\n",
    "x = np.dot(np.linalg.inv(A), b)\n",
    "print(\"Ax=b\")\n",
    "print(\"行列\")\n",
    "print(A)\n",
    "print(\"右辺\")\n",
    "print(b)\n",
    "print(\"解\")\n",
    "print(x)"
   ]
  },
  {
   "cell_type": "markdown",
   "metadata": {},
   "source": [
    "# BiCG Method"
   ]
  },
  {
   "cell_type": "code",
   "execution_count": 71,
   "metadata": {},
   "outputs": [
    {
     "name": "stdout",
     "output_type": "stream",
     "text": [
      "0 13.939100048354486\n",
      "1000 13.814035692675501\n",
      "2000 13.814035692675501\n",
      "3000 13.814035692675501\n",
      "4000 13.814035692675501\n",
      "5000 13.814035692675501\n",
      "6000 13.814035692675501\n",
      "7000 13.814035692675501\n",
      "8000 13.814035692675501\n",
      "9000 13.814035692675501\n",
      "[ 1.35132883  1.05255673  1.13577415  0.95174909  1.34142907  0.65818915\n",
      " -1.61156594  2.55546585  1.23926597  1.77499363]\n"
     ]
    }
   ],
   "source": [
    "# Initialize solution x\n",
    "x_bicg = np.ones(len(x))\n",
    "A_temp = A.copy()\n",
    "b_base = b.copy()\n",
    "b_temp = np.dot(A_temp, x_bicg)\n",
    "r = b_base - b_temp\n",
    "p = r.copy()\n",
    "ps = r.copy()\n",
    "rs = r.copy()\n",
    "r0 = np.sqrt(np.dot(r, r))\n",
    "eps = 10 ** -10\n",
    "for i in range(10000):\n",
    "    # q _k= Ap_k\n",
    "    b_temp = np.dot(A_temp, p)\n",
    "    # q* _k= AHp*_k\n",
    "    b_temp2 = np.dot(np.linalg.inv(A_temp), ps)\n",
    "    # (r*_k,r_k)\n",
    "    t = np.dot(rs, r)\n",
    "    # alpha_k = (r*_k,r_k) / (p*_k,q_k)\n",
    "    alpha = t / np.dot(ps, b_temp)\n",
    "    # x_k1 = x_k + alpha_k * p_k\n",
    "    x_bicg += alpha * p\n",
    "    # r_k1 = r_k - alpha_k * q_k\n",
    "    r -= alpha * b_temp\n",
    "    # r*_k1 = r*_k - alpha_k * q*_k\n",
    "    rs -= alpha * b_temp2\n",
    "    # (r*_k1, r_k1) / (r*_k, r_k)\n",
    "    beta = np.dot(rs, r) / t\n",
    "    # p_k1 = r_k1 + beta_k * p_k\n",
    "    p = r + beta * p\n",
    "    # p*_k1 = r*_k1 + beta_k * p*_k\n",
    "    ps = rs + beta * ps\n",
    "    if i % 1000 == 0:\n",
    "        print(i, np.sum(x_bicg - x))\n",
    "    if np.sqrt(np.dot(r, r)) / r0 <= eps:\n",
    "        print(i, x_bicg - x)\n",
    "        break\n",
    "print(np.dot(A, x_bicg))"
   ]
  },
  {
   "cell_type": "markdown",
   "metadata": {},
   "source": [
    "# BiCGstab"
   ]
  },
  {
   "cell_type": "code",
   "execution_count": 75,
   "metadata": {},
   "outputs": [
    {
     "name": "stdout",
     "output_type": "stream",
     "text": [
      "0 13.94858455925076\n",
      "15 [-1.34796991e-08  6.84646473e-09  2.60055177e-09 -4.40509851e-09\n",
      "  1.06258868e-09  1.42021284e-09 -1.17822951e-09  2.48688292e-11\n",
      "  4.33196590e-10 -2.55917926e-10]\n",
      "residual:  3.671937470935679e-10\n",
      "[1. 1. 1. 1. 1. 1. 1. 1. 1. 1.]\n"
     ]
    }
   ],
   "source": [
    "# Initialize solution x\n",
    "x_bicgstab = np.ones(len(x))\n",
    "A_temp = A.copy()\n",
    "b_base = b.copy()\n",
    "b_temp = np.dot(A_temp, x_bicgstab)\n",
    "r = b_base - b_temp\n",
    "p = r.copy()\n",
    "rs = r.copy()\n",
    "r0 = np.sqrt(np.dot(r, r))\n",
    "eps = 10 ** -10\n",
    "for i in range(10000):\n",
    "    # q _k= Ap_k\n",
    "    b_temp = np.dot(A_temp, p)\n",
    "    # (r*_k,r_k)\n",
    "    t = np.dot(rs, r)\n",
    "    # alpha_k = (r*_k,r_k) / (p*_k,q_k)\n",
    "    alpha = t / np.dot(rs, b_temp)\n",
    "    # s_k = r_k - alpha_k * q_k\n",
    "    s = r - alpha * b_temp\n",
    "    # w_k = (As_k, s_k) / (As_\n",
    "    As = np.dot(A, s)\n",
    "    w = np.dot(As, s) / np.dot(As, As)\n",
    "    # x_k1 = x_k + alpha_k * p_k\n",
    "    x_bicgstab += alpha * p + w*s\n",
    "    # r_k1 = s_k - w_k * As_k\n",
    "    r = s - w * As\n",
    "    # (r*_k, r_k1) / (r*_k, r_k) * alpha_k / w_k\n",
    "    beta = np.dot(rs, r) / t * alpha / w\n",
    "    # p_k1 = r_k1 + beta_k * (p_k - w_k * Ap_k)\n",
    "    p = r + beta * (p - w * np.dot(A, p)) \n",
    "    if i % 1000 == 0:\n",
    "        print(i, np.sum(x_bicgstab - x))\n",
    "    if np.sqrt(np.dot(r, r)) / r0 <= eps:\n",
    "        print(i, x_bicgstab - x)\n",
    "        print(\"residual: \", np.sqrt(np.dot(r, r)))\n",
    "        break\n",
    "print(np.dot(A, x_bicgstab))"
   ]
  },
  {
   "cell_type": "code",
   "execution_count": null,
   "metadata": {},
   "outputs": [],
   "source": []
  },
  {
   "cell_type": "code",
   "execution_count": 76,
   "metadata": {},
   "outputs": [
    {
     "name": "stdout",
     "output_type": "stream",
     "text": [
      "#number of iterations: 22\n",
      "#relative residual: 2.629025e-11\n",
      "#relative error:    2.628939e-11\n"
     ]
    }
   ],
   "source": [
    "import numpy.linalg as nl\n",
    "# initialize\n",
    "x_j = np.zeros(b.size)\n",
    "r_j = r_0 = p_j = b - A.dot(x_j)\n",
    "r_0_norm = nl.norm(r_0)\n",
    "\n",
    "# start\n",
    "for j in range(1, 100001):\n",
    "    Ap = A.dot(p_j)\n",
    "    t = np.dot(r_j,r_0)\n",
    "    a = t/np.dot(Ap,r_0)\n",
    "    s = r_j - a*Ap\n",
    "    As = A.dot(s)\n",
    "    w = np.dot(As,s)/np.dot(As,As)\n",
    "    x_j = x_j + a*p_j + w*s\n",
    "    r_j = s - w*As\n",
    "    c = np.dot(r_j,r_0)/t*a/w\n",
    "    p_j = r_j + c*(p_j - w*Ap)\n",
    "\n",
    "    #convergence test\n",
    "    #print nl.norm(r_j)/r_0_norm\n",
    "    if np.dot(r_j,r_j) < eps*eps*r_0_norm*r_0_norm:\n",
    "        print('#number of iterations:', j)\n",
    "        print('#relative residual: %e' % (nl.norm(r_j)/r_0_norm))\n",
    "        print('#relative error:    %e' % (nl.norm(b-A.dot(x_j))/r_0_norm))\n",
    "        break\n",
    "else:\n",
    "    print('do not converge!')"
   ]
  },
  {
   "cell_type": "code",
   "execution_count": 77,
   "metadata": {},
   "outputs": [
    {
     "data": {
      "text/plain": [
       "array([1., 1., 1., 1., 1., 1., 1., 1., 1., 1.])"
      ]
     },
     "execution_count": 77,
     "metadata": {},
     "output_type": "execute_result"
    }
   ],
   "source": [
    "np.dot(A, x_j)"
   ]
  },
  {
   "cell_type": "code",
   "execution_count": null,
   "metadata": {},
   "outputs": [],
   "source": []
  }
 ],
 "metadata": {
  "kernelspec": {
   "display_name": "Python 3",
   "language": "python",
   "name": "python3"
  },
  "language_info": {
   "codemirror_mode": {
    "name": "ipython",
    "version": 3
   },
   "file_extension": ".py",
   "mimetype": "text/x-python",
   "name": "python",
   "nbconvert_exporter": "python",
   "pygments_lexer": "ipython3",
   "version": "3.7.3"
  }
 },
 "nbformat": 4,
 "nbformat_minor": 2
}
