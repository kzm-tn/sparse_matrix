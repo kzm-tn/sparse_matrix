{
 "cells": [
  {
   "cell_type": "code",
   "execution_count": 1,
   "metadata": {},
   "outputs": [],
   "source": [
    "from scipy.sparse import csr_matrix\n",
    "from scipy.sparse.csgraph import reverse_cuthill_mckee\n",
    "import numpy as np\n",
    "import matplotlib.pyplot as plt\n",
    "%matplotlib inline"
   ]
  },
  {
   "cell_type": "code",
   "execution_count": 8,
   "metadata": {},
   "outputs": [
    {
     "data": {
      "text/plain": [
       "array([[  0. ,   0. ,   0. ,   2. ,   0. ,   0. ,   0. ,   0. ,   0. ,\n",
       "          1. ],\n",
       "       [  0. ,   0. ,   2. ,   0. ,   0. ,   0. ,   0. ,   0. ,  12. ,\n",
       "          0. ],\n",
       "       [  0. ,   2. ,   0. ,   0. ,   0. ,   0. ,   0. ,  23. ,   0. ,\n",
       "          0. ],\n",
       "       [  2. ,   0. ,   0. ,   0. ,   0. ,   0. ,  34. ,   0. ,   0. ,\n",
       "          0. ],\n",
       "       [  0. ,   0. ,   0. ,   0. ,   0. ,  45. ,   0. ,   0. ,   0. ,\n",
       "          0.5],\n",
       "       [  0. ,   0. ,   0. ,   0. ,  56. ,   0. ,   0. ,   0. ,   0.5,\n",
       "          0. ],\n",
       "       [  0. ,   0. ,   0. ,  67. ,   0. ,   0. ,   0. ,   0.5,   0. ,\n",
       "          0. ],\n",
       "       [  0. ,   0. ,  78. ,   0. ,   0. ,   0. ,   0.5,   0. ,   0. ,\n",
       "          0. ],\n",
       "       [  0. ,  89. ,   0. ,   0. ,   0. ,   0.5,   0. ,   0. ,   0. ,\n",
       "          0. ],\n",
       "       [100. ,   0. ,   0. ,   0. ,   0.5,   0. ,   0. ,   0. ,   0. ,\n",
       "          0. ]])"
      ]
     },
     "execution_count": 8,
     "metadata": {},
     "output_type": "execute_result"
    }
   ],
   "source": [
    "graph = np.fliplr(np.eye(10)*np.arange(1, 101).reshape(10, 10) + np.eye(10, k=6)*2 + np.eye(10, k=-4)*0.5)\n",
    "graph"
   ]
  },
  {
   "cell_type": "code",
   "execution_count": 9,
   "metadata": {},
   "outputs": [
    {
     "name": "stdout",
     "output_type": "stream",
     "text": [
      "  (0, 3)\t2.0\n",
      "  (0, 9)\t1.0\n",
      "  (1, 2)\t2.0\n",
      "  (1, 8)\t12.0\n",
      "  (2, 1)\t2.0\n",
      "  (2, 7)\t23.0\n",
      "  (3, 0)\t2.0\n",
      "  (3, 6)\t34.0\n",
      "  (4, 5)\t45.0\n",
      "  (4, 9)\t0.5\n",
      "  (5, 4)\t56.0\n",
      "  (5, 8)\t0.5\n",
      "  (6, 3)\t67.0\n",
      "  (6, 7)\t0.5\n",
      "  (7, 2)\t78.0\n",
      "  (7, 6)\t0.5\n",
      "  (8, 1)\t89.0\n",
      "  (8, 5)\t0.5\n",
      "  (9, 0)\t100.0\n",
      "  (9, 4)\t0.5\n"
     ]
    }
   ],
   "source": [
    "csr_graph = csr_matrix(graph)\n",
    "print(csr_graph)"
   ]
  },
  {
   "cell_type": "code",
   "execution_count": 10,
   "metadata": {},
   "outputs": [
    {
     "name": "stdout",
     "output_type": "stream",
     "text": [
      "[  3.   14.   25.   36.   45.5  56.5  67.5  78.5  89.5 100.5]\n",
      "[  3.   14.   25.   36.   45.5  56.5  67.5  78.5  89.5 100.5]\n"
     ]
    }
   ],
   "source": [
    "print(csr_graph.dot(np.ones(10)))\n",
    "print(graph.dot(np.ones(10)))"
   ]
  },
  {
   "cell_type": "code",
   "execution_count": 39,
   "metadata": {},
   "outputs": [
    {
     "data": {
      "text/plain": [
       "array([1, 8, 2, 5, 7, 4, 6, 9, 3, 0], dtype=int32)"
      ]
     },
     "execution_count": 39,
     "metadata": {},
     "output_type": "execute_result"
    }
   ],
   "source": [
    "perm = reverse_cuthill_mckee(csr_graph)\n",
    "# 変換後のindexがどこに行くかを表す\n",
    "# 0行もしくは0列は、reorderによりそれぞれ9行もしくは9列に移動する\n",
    "perm"
   ]
  },
  {
   "cell_type": "code",
   "execution_count": 40,
   "metadata": {},
   "outputs": [
    {
     "name": "stdout",
     "output_type": "stream",
     "text": [
      "[[  0.    0.    0.    2.    0.    0.    0.    0.    0.    1. ]\n",
      " [  0.    0.    2.    0.    0.    0.    0.    0.   12.    0. ]\n",
      " [  0.    2.    0.    0.    0.    0.    0.   23.    0.    0. ]\n",
      " [  2.    0.    0.    0.    0.    0.   34.    0.    0.    0. ]\n",
      " [  0.    0.    0.    0.    0.   45.    0.    0.    0.    0.5]\n",
      " [  0.    0.    0.    0.   56.    0.    0.    0.    0.5   0. ]\n",
      " [  0.    0.    0.   67.    0.    0.    0.    0.5   0.    0. ]\n",
      " [  0.    0.   78.    0.    0.    0.    0.5   0.    0.    0. ]\n",
      " [  0.   89.    0.    0.    0.    0.5   0.    0.    0.    0. ]\n",
      " [100.    0.    0.    0.    0.5   0.    0.    0.    0.    0. ]]\n",
      "[[  0.    0.    2.    0.    0.    0.    0.    0.   12.    0. ]\n",
      " [  0.   89.    0.    0.    0.    0.5   0.    0.    0.    0. ]\n",
      " [  0.    2.    0.    0.    0.    0.    0.   23.    0.    0. ]\n",
      " [  0.    0.    0.    0.   56.    0.    0.    0.    0.5   0. ]\n",
      " [  0.    0.   78.    0.    0.    0.    0.5   0.    0.    0. ]\n",
      " [  0.    0.    0.    0.    0.   45.    0.    0.    0.    0.5]\n",
      " [  0.    0.    0.   67.    0.    0.    0.    0.5   0.    0. ]\n",
      " [100.    0.    0.    0.    0.5   0.    0.    0.    0.    0. ]\n",
      " [  2.    0.    0.    0.    0.    0.   34.    0.    0.    0. ]\n",
      " [  0.    0.    0.    2.    0.    0.    0.    0.    0.    1. ]]\n"
     ]
    }
   ],
   "source": [
    "print(graph)\n",
    "print(csr_graph[perm].todense())"
   ]
  },
  {
   "cell_type": "code",
   "execution_count": null,
   "metadata": {},
   "outputs": [],
   "source": []
  },
  {
   "cell_type": "code",
   "execution_count": null,
   "metadata": {},
   "outputs": [],
   "source": []
  },
  {
   "cell_type": "code",
   "execution_count": 41,
   "metadata": {},
   "outputs": [],
   "source": [
    "from scipy import sparse\n",
    "\n",
    "def create_cuthill_mckee_matrix(adjacency_matrix):\n",
    "    csr_matrix = sparse.csr_matrix(adjacency_matrix)\n",
    "    index_dict = sparse.csgraph.reverse_cuthill_mckee(csr_matrix)\n",
    "    index_dict = {i[1]: i[0] for i in enumerate(index_dict)}\n",
    "\n",
    "    cuthill_mckee_matrix = np.zeros_like(adjacency_matrix)\n",
    "    rows, columns = csr_matrix.nonzero()\n",
    "    for row, column in zip(rows, columns):\n",
    "        cuthill_mckee_matrix[index_dict[row], index_dict[column]] = adjacency_matrix[row, column]\n",
    "\n",
    "    return cuthill_mckee_matrix\n",
    "\n"
   ]
  },
  {
   "cell_type": "code",
   "execution_count": 42,
   "metadata": {},
   "outputs": [
    {
     "data": {
      "text/plain": [
       "array([[  0. ,  12. ,   2. ,   0. ,   0. ,   0. ,   0. ,   0. ,   0. ,\n",
       "          0. ],\n",
       "       [ 89. ,   0. ,   0. ,   0.5,   0. ,   0. ,   0. ,   0. ,   0. ,\n",
       "          0. ],\n",
       "       [  2. ,   0. ,   0. ,   0. ,  23. ,   0. ,   0. ,   0. ,   0. ,\n",
       "          0. ],\n",
       "       [  0. ,   0.5,   0. ,   0. ,   0. ,  56. ,   0. ,   0. ,   0. ,\n",
       "          0. ],\n",
       "       [  0. ,   0. ,  78. ,   0. ,   0. ,   0. ,   0.5,   0. ,   0. ,\n",
       "          0. ],\n",
       "       [  0. ,   0. ,   0. ,  45. ,   0. ,   0. ,   0. ,   0.5,   0. ,\n",
       "          0. ],\n",
       "       [  0. ,   0. ,   0. ,   0. ,   0.5,   0. ,   0. ,   0. ,  67. ,\n",
       "          0. ],\n",
       "       [  0. ,   0. ,   0. ,   0. ,   0. ,   0.5,   0. ,   0. ,   0. ,\n",
       "        100. ],\n",
       "       [  0. ,   0. ,   0. ,   0. ,   0. ,   0. ,  34. ,   0. ,   0. ,\n",
       "          2. ],\n",
       "       [  0. ,   0. ,   0. ,   0. ,   0. ,   0. ,   0. ,   1. ,   2. ,\n",
       "          0. ]])"
      ]
     },
     "execution_count": 42,
     "metadata": {},
     "output_type": "execute_result"
    }
   ],
   "source": [
    "create_cuthill_mckee_matrix(graph)"
   ]
  },
  {
   "cell_type": "code",
   "execution_count": 38,
   "metadata": {},
   "outputs": [
    {
     "data": {
      "text/plain": [
       "array([  3. ,  14. ,  25. ,  36. ,  45.5,  56.5,  67.5,  78.5,  89.5,\n",
       "       100.5])"
      ]
     },
     "execution_count": 38,
     "metadata": {},
     "output_type": "execute_result"
    }
   ],
   "source": [
    "ans = []\n",
    "for i in range(10):\n",
    "    ans.append(create_cuthill_mckee_matrix(graph).dot(np.ones(10))[np.where(i==perm)][0])\n",
    "np.array(ans)"
   ]
  },
  {
   "cell_type": "code",
   "execution_count": 37,
   "metadata": {},
   "outputs": [
    {
     "data": {
      "text/plain": [
       "array([  3. ,  14. ,  25. ,  36. ,  45.5,  56.5,  67.5,  78.5,  89.5,\n",
       "       100.5])"
      ]
     },
     "execution_count": 37,
     "metadata": {},
     "output_type": "execute_result"
    }
   ],
   "source": [
    "graph.dot(np.ones(10))"
   ]
  },
  {
   "cell_type": "code",
   "execution_count": null,
   "metadata": {},
   "outputs": [],
   "source": []
  }
 ],
 "metadata": {
  "kernelspec": {
   "display_name": "Python 3",
   "language": "python",
   "name": "python3"
  },
  "language_info": {
   "codemirror_mode": {
    "name": "ipython",
    "version": 3
   },
   "file_extension": ".py",
   "mimetype": "text/x-python",
   "name": "python",
   "nbconvert_exporter": "python",
   "pygments_lexer": "ipython3",
   "version": "3.7.3"
  }
 },
 "nbformat": 4,
 "nbformat_minor": 2
}
