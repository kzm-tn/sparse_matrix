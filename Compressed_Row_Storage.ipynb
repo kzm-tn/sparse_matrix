{
 "cells": [
  {
   "cell_type": "code",
   "execution_count": 1,
   "metadata": {},
   "outputs": [],
   "source": [
    "import numpy as np"
   ]
  },
  {
   "cell_type": "code",
   "execution_count": 2,
   "metadata": {},
   "outputs": [
    {
     "data": {
      "text/plain": [
       "array([[1. , 2. , 0. , 0. , 0. , 0. , 0. , 0. , 0. , 0. ],\n",
       "       [0.5, 1. , 2. , 0. , 0. , 0. , 0. , 0. , 0. , 0. ],\n",
       "       [0. , 0.5, 1. , 2. , 0. , 0. , 0. , 0. , 0. , 0. ],\n",
       "       [0. , 0. , 0.5, 1. , 2. , 0. , 0. , 0. , 0. , 0. ],\n",
       "       [0. , 0. , 0. , 0.5, 1. , 2. , 0. , 0. , 0. , 0. ],\n",
       "       [0. , 0. , 0. , 0. , 0.5, 1. , 2. , 0. , 0. , 0. ],\n",
       "       [0. , 0. , 0. , 0. , 0. , 0.5, 1. , 2. , 0. , 0. ],\n",
       "       [0. , 0. , 0. , 0. , 0. , 0. , 0.5, 1. , 2. , 0. ],\n",
       "       [0. , 0. , 0. , 0. , 0. , 0. , 0. , 0.5, 1. , 2. ],\n",
       "       [0. , 0. , 0. , 0. , 0. , 0. , 0. , 0. , 0.5, 1. ]])"
      ]
     },
     "execution_count": 2,
     "metadata": {},
     "output_type": "execute_result"
    }
   ],
   "source": [
    "A = np.eye(10) + np.eye(10, k=1)*2 + np.eye(10, k=-1)*0.5\n",
    "A"
   ]
  },
  {
   "cell_type": "markdown",
   "metadata": {},
   "source": [
    "# [CRS形式(CSR形式)](http://www.jicfus.jp/wiki/index.php?CRS形式)\n",
    "\n",
    "* D: 対角行列\n",
    "* index_row: 何番目の要素から次の行が始まるか\n",
    "* index_col: 何列目に数字が存在するか\n",
    "* item: indexで指定した場所にある数字"
   ]
  },
  {
   "cell_type": "code",
   "execution_count": 3,
   "metadata": {},
   "outputs": [
    {
     "data": {
      "text/plain": [
       "array([[0. , 2. , 0. , 0. , 0. , 0. , 0. , 0. , 0. , 0. ],\n",
       "       [0.5, 0. , 2. , 0. , 0. , 0. , 0. , 0. , 0. , 0. ],\n",
       "       [0. , 0.5, 0. , 2. , 0. , 0. , 0. , 0. , 0. , 0. ],\n",
       "       [0. , 0. , 0.5, 0. , 2. , 0. , 0. , 0. , 0. , 0. ],\n",
       "       [0. , 0. , 0. , 0.5, 0. , 2. , 0. , 0. , 0. , 0. ],\n",
       "       [0. , 0. , 0. , 0. , 0.5, 0. , 2. , 0. , 0. , 0. ],\n",
       "       [0. , 0. , 0. , 0. , 0. , 0.5, 0. , 2. , 0. , 0. ],\n",
       "       [0. , 0. , 0. , 0. , 0. , 0. , 0.5, 0. , 2. , 0. ],\n",
       "       [0. , 0. , 0. , 0. , 0. , 0. , 0. , 0.5, 0. , 2. ],\n",
       "       [0. , 0. , 0. , 0. , 0. , 0. , 0. , 0. , 0.5, 0. ]])"
      ]
     },
     "execution_count": 3,
     "metadata": {},
     "output_type": "execute_result"
    }
   ],
   "source": [
    "# 対角行列を取り出す\n",
    "# Extract Diagonal componets\n",
    "A_new = A.copy()\n",
    "D = np.zeros(len(A_new[:, 0]))\n",
    "for i in range(len(A_new[:, 0])):\n",
    "        D[i] = A[i, i]\n",
    "        A_new[i, i] -= D[i]\n",
    "A_new"
   ]
  },
  {
   "cell_type": "code",
   "execution_count": 4,
   "metadata": {},
   "outputs": [
    {
     "data": {
      "text/plain": [
       "array([1., 1., 1., 1., 1., 1., 1., 1., 1., 1.])"
      ]
     },
     "execution_count": 4,
     "metadata": {},
     "output_type": "execute_result"
    }
   ],
   "source": [
    "D"
   ]
  },
  {
   "cell_type": "code",
   "execution_count": 5,
   "metadata": {},
   "outputs": [],
   "source": [
    "index_row = np.zeros(len(A[:, 0])+1)\n",
    "index_col = np.array([])\n",
    "item = np.array([])\n",
    "for j in range(len(A_new[:, 0])):\n",
    "    index_row[j+1] = len(np.where(A_new[j, :])[0])\n",
    "    index_col = np.append(index_col, np.where(A_new[j, :]))\n",
    "    item = np.append(item, A_new[j, :][np.where(A_new[j, :])])\n",
    "index_row = (index_row).cumsum()"
   ]
  },
  {
   "cell_type": "code",
   "execution_count": 6,
   "metadata": {},
   "outputs": [
    {
     "name": "stdout",
     "output_type": "stream",
     "text": [
      "Diagonal:  [1. 1. 1. 1. 1. 1. 1. 1. 1. 1.]\n",
      "row:  [ 0.  1.  3.  5.  7.  9. 11. 13. 15. 17. 18.]\n",
      "column:  [1. 0. 2. 1. 3. 2. 4. 3. 5. 4. 6. 5. 7. 6. 8. 7. 9. 8.]\n",
      "item:  [2.  0.5 2.  0.5 2.  0.5 2.  0.5 2.  0.5 2.  0.5 2.  0.5 2.  0.5 2.  0.5]\n",
      "A: [[1.  2.  0.  0.  0.  0.  0.  0.  0.  0. ]\n",
      " [0.5 1.  2.  0.  0.  0.  0.  0.  0.  0. ]\n",
      " [0.  0.5 1.  2.  0.  0.  0.  0.  0.  0. ]\n",
      " [0.  0.  0.5 1.  2.  0.  0.  0.  0.  0. ]\n",
      " [0.  0.  0.  0.5 1.  2.  0.  0.  0.  0. ]\n",
      " [0.  0.  0.  0.  0.5 1.  2.  0.  0.  0. ]\n",
      " [0.  0.  0.  0.  0.  0.5 1.  2.  0.  0. ]\n",
      " [0.  0.  0.  0.  0.  0.  0.5 1.  2.  0. ]\n",
      " [0.  0.  0.  0.  0.  0.  0.  0.5 1.  2. ]\n",
      " [0.  0.  0.  0.  0.  0.  0.  0.  0.5 1. ]]\n"
     ]
    }
   ],
   "source": [
    "print(\"Diagonal: \", D)\n",
    "print(\"row: \", index_row)\n",
    "print(\"column: \", index_col)\n",
    "print(\"item: \", item)\n",
    "print(\"A:\", A)"
   ]
  },
  {
   "cell_type": "markdown",
   "metadata": {},
   "source": [
    "# Example\n",
    "\n",
    "x = \\[0, 1, 2, 3, 4, 5, 6, 7, 8, 9\\]\n",
    "\n",
    "A =\n",
    "\n",
    "1.0 , 2. , 0. , 0. , 0. , 0. , 0. , 0. , 0. , 0.\n",
    "\n",
    "0.5, 1. , 2. , 0. , 0. , 0. , 0. , 0. , 0. , 0.\n",
    "\n",
    "0.0 , 0.5, 1. , 2. , 0. , 0. , 0. , 0. , 0. , 0.\n",
    "\n",
    "0.0 , 0. , 0.5, 1. , 2. , 0. , 0. , 0. , 0. , 0.\n",
    "\n",
    "0.0 , 0. , 0. , 0.5, 1. , 2. , 0. , 0. , 0. , 0. \n",
    "\n",
    "0.0 , 0. , 0. , 0. , 0.5, 1. , 2. , 0. , 0. , 0. \n",
    "\n",
    "0.0 , 0. , 0. , 0. , 0. , 0.5, 1. , 2. , 0. , 0.\n",
    "\n",
    "0.0 , 0. , 0. , 0. , 0. , 0. , 0.5, 1. , 2. , 0. \n",
    "\n",
    "0.0 , 0. , 0. , 0. , 0. , 0. , 0. , 0.5, 1. , 2.\n",
    "\n",
    "0.0 , 0. , 0. , 0. , 0. , 0. , 0. , 0. , 0.5, 1. \n",
    "\n",
    "A \\* x \\= \\?"
   ]
  },
  {
   "cell_type": "code",
   "execution_count": 7,
   "metadata": {},
   "outputs": [
    {
     "name": "stdout",
     "output_type": "stream",
     "text": [
      "Answer\n"
     ]
    },
    {
     "data": {
      "text/plain": [
       "array([ 2. ,  5. ,  8.5, 12. , 15.5, 19. , 22.5, 26. , 29.5, 13. ])"
      ]
     },
     "execution_count": 7,
     "metadata": {},
     "output_type": "execute_result"
    }
   ],
   "source": [
    "A = np.eye(10) + np.eye(10, k=1)*2 + np.eye(10, k=-1)*0.5\n",
    "x = np.array(range(len(D)))\n",
    "print(\"Answer\")\n",
    "np.dot(A, x)"
   ]
  },
  {
   "cell_type": "code",
   "execution_count": 8,
   "metadata": {},
   "outputs": [
    {
     "data": {
      "text/plain": [
       "array([ 2. ,  5. ,  8.5, 12. , 15.5, 19. , 22.5, 26. , 29.5, 13. ])"
      ]
     },
     "execution_count": 8,
     "metadata": {},
     "output_type": "execute_result"
    }
   ],
   "source": [
    "# Compressed Row Storage\n",
    "answer = np.zeros(len(D))\n",
    "for k in range(len(D)):\n",
    "    answer[k] = D[k] * x[k]\n",
    "    for m in range(int(index_row[k]), int(index_row[k+1])):\n",
    "        answer[k] += item[m] * x[int(index_col[m])]\n",
    "answer"
   ]
  },
  {
   "cell_type": "code",
   "execution_count": null,
   "metadata": {},
   "outputs": [],
   "source": []
  },
  {
   "cell_type": "code",
   "execution_count": null,
   "metadata": {},
   "outputs": [],
   "source": []
  },
  {
   "cell_type": "code",
   "execution_count": null,
   "metadata": {},
   "outputs": [],
   "source": []
  }
 ],
 "metadata": {
  "kernelspec": {
   "display_name": "Python 3",
   "language": "python",
   "name": "python3"
  },
  "language_info": {
   "codemirror_mode": {
    "name": "ipython",
    "version": 3
   },
   "file_extension": ".py",
   "mimetype": "text/x-python",
   "name": "python",
   "nbconvert_exporter": "python",
   "pygments_lexer": "ipython3",
   "version": "3.7.3"
  }
 },
 "nbformat": 4,
 "nbformat_minor": 2
}
